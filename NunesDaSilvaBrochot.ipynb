{
 "cells": [
  {
   "cell_type": "markdown",
   "metadata": {},
   "source": [
    "# Python Project: An analysis of League of Legends Data\n",
    "# How to win regarding statistics"
   ]
  },
  {
   "cell_type": "markdown",
   "metadata": {},
   "source": [
    "Edited by:\n",
    "Antoine Brochot 20180636\n",
    "Yann Nunes Da Silva 20180993"
   ]
  },
  {
   "cell_type": "markdown",
   "metadata": {},
   "source": [
    "Hello Mr. Chaabane,\n",
    "\n",
    "As you are the new head of the League of Legends team G2 Esports, we provide you our studies on the game so as you get a better overview of how to lead your team to victory. The calculus were made with a dataset of more than fifty thousand games during last season, and as you may not be very familiar with the game we will try to be as explicit as possible.\n",
    "\n",
    "Best regards,\n",
    "\n",
    "Antoine Brochot\n",
    "Yann Nunes da Silva"
   ]
  },
  {
   "cell_type": "markdown",
   "metadata": {},
   "source": [
    "First of all, League of Legends is a MOBA game developed by Riot Games in 2009. It is today the most watched esport game in the world, with more of 44 million different viewers in the world for the final (for instance the final of rugby worldcup gathered 3.35 million viewers).\n",
    "\n",
    "The game consists in two teams of 5 players each, trying to destroy the enemy's nexus (a building).\n",
    "Each player embodies a different champion, with unique abilities.\n",
    "Each team has 11 towers in total, 3 per lane and 2 defending nexus.\n",
    "To get acces to enemy nexus, a team must destroy the 3 towers of a lane, the inhibitor of the lane and finally destroy the 2 nexus towers.\n",
    "All players spread on the map (wich is always the same) and try to destroy ennemy towers to finally access to the enemy nexus.\n",
    "There are a few more objectives such as:\n",
    "\n",
    "Dragon: provides a buff for the team which killed it, untill the end of the game. Spawns in his pit at 5:00, then takes 5 minutes to respawn once killed.\n",
    "\n",
    "Rift Herald: once killed, it helps to destroy one or severall towers, depending on how the team owning it defends it.\n",
    "Spawns in his pit at 8:00 (8 minutes after the beginning of the game), then takes 6 minutes to respawn once killed. Disappears at 20:00.\n",
    "\n",
    "Baron: provides a very powerful buff for the team which killed it, for 3 minutes. Replaces the Rift Herald in his pit at 20:00, then takes 7 minutes to respawn after being killed.\n",
    "\n",
    "Inhibitor: After destroying the third enemy tower of a lane, the inhibitor of the lane becomes vulnerable. Once destroyed, super minions will be summoned in addition of normal minions, this way the team which destroyed inhibitor can progress easier toward nexus towers and nexus.\n",
    "\n",
    "\n",
    "N.B: an inhibitor will respawn 5 minutes after being destroyed, in order to leave a chance to the attacked team to take revenge.\n",
    "\n",
    "\n",
    "\n",
    "The last thing to know is that the map is symmetrical (except for a few details). The team 1 is called \"blue\" (playing in the blue side of the map), team 2 is called \"red\" (red side of the map). We will see that there are a few differences between the two."
   ]
  },
  {
   "cell_type": "markdown",
   "metadata": {},
   "source": [
    "We start by importing the needed libraries, and converting the game duration from seconds to minutes."
   ]
  },
  {
   "cell_type": "code",
   "execution_count": 20,
   "metadata": {},
   "outputs": [],
   "source": [
    "import pandas as pd\n",
    "import numpy as np\n",
    "import matplotlib.pyplot as plt\n",
    "import seaborn as sns\n",
    "from sklearn import linear_model\n",
    "%matplotlib inline\n",
    "import numpy as np\n",
    "from sklearn.linear_model import LinearRegression\n",
    "\n",
    "league=pd.read_csv('games.csv')\n",
    "league[\"gameDuration\"] = league[\"gameDuration\"]//60"
   ]
  },
  {
   "cell_type": "code",
   "execution_count": 3,
   "metadata": {},
   "outputs": [
    {
     "data": {
      "text/html": [
       "<div>\n",
       "<style scoped>\n",
       "    .dataframe tbody tr th:only-of-type {\n",
       "        vertical-align: middle;\n",
       "    }\n",
       "\n",
       "    .dataframe tbody tr th {\n",
       "        vertical-align: top;\n",
       "    }\n",
       "\n",
       "    .dataframe thead th {\n",
       "        text-align: right;\n",
       "    }\n",
       "</style>\n",
       "<table border=\"1\" class=\"dataframe\">\n",
       "  <thead>\n",
       "    <tr style=\"text-align: right;\">\n",
       "      <th></th>\n",
       "      <th>gameId</th>\n",
       "      <th>creationTime</th>\n",
       "      <th>gameDuration</th>\n",
       "      <th>seasonId</th>\n",
       "      <th>winner</th>\n",
       "      <th>firstBlood</th>\n",
       "      <th>firstTower</th>\n",
       "      <th>firstInhibitor</th>\n",
       "      <th>firstBaron</th>\n",
       "      <th>firstDragon</th>\n",
       "      <th>...</th>\n",
       "      <th>t2_towerKills</th>\n",
       "      <th>t2_inhibitorKills</th>\n",
       "      <th>t2_baronKills</th>\n",
       "      <th>t2_dragonKills</th>\n",
       "      <th>t2_riftHeraldKills</th>\n",
       "      <th>t2_ban1</th>\n",
       "      <th>t2_ban2</th>\n",
       "      <th>t2_ban3</th>\n",
       "      <th>t2_ban4</th>\n",
       "      <th>t2_ban5</th>\n",
       "    </tr>\n",
       "  </thead>\n",
       "  <tbody>\n",
       "    <tr>\n",
       "      <th>0</th>\n",
       "      <td>3326086514</td>\n",
       "      <td>1504279457970</td>\n",
       "      <td>32</td>\n",
       "      <td>9</td>\n",
       "      <td>1</td>\n",
       "      <td>2</td>\n",
       "      <td>1</td>\n",
       "      <td>1</td>\n",
       "      <td>1</td>\n",
       "      <td>1</td>\n",
       "      <td>...</td>\n",
       "      <td>5</td>\n",
       "      <td>0</td>\n",
       "      <td>0</td>\n",
       "      <td>1</td>\n",
       "      <td>1</td>\n",
       "      <td>114</td>\n",
       "      <td>67</td>\n",
       "      <td>43</td>\n",
       "      <td>16</td>\n",
       "      <td>51</td>\n",
       "    </tr>\n",
       "    <tr>\n",
       "      <th>1</th>\n",
       "      <td>3229566029</td>\n",
       "      <td>1497848803862</td>\n",
       "      <td>30</td>\n",
       "      <td>9</td>\n",
       "      <td>1</td>\n",
       "      <td>1</td>\n",
       "      <td>1</td>\n",
       "      <td>1</td>\n",
       "      <td>0</td>\n",
       "      <td>1</td>\n",
       "      <td>...</td>\n",
       "      <td>2</td>\n",
       "      <td>0</td>\n",
       "      <td>0</td>\n",
       "      <td>0</td>\n",
       "      <td>0</td>\n",
       "      <td>11</td>\n",
       "      <td>67</td>\n",
       "      <td>238</td>\n",
       "      <td>51</td>\n",
       "      <td>420</td>\n",
       "    </tr>\n",
       "    <tr>\n",
       "      <th>2</th>\n",
       "      <td>3327363504</td>\n",
       "      <td>1504360103310</td>\n",
       "      <td>24</td>\n",
       "      <td>9</td>\n",
       "      <td>1</td>\n",
       "      <td>2</td>\n",
       "      <td>1</td>\n",
       "      <td>1</td>\n",
       "      <td>1</td>\n",
       "      <td>2</td>\n",
       "      <td>...</td>\n",
       "      <td>2</td>\n",
       "      <td>0</td>\n",
       "      <td>0</td>\n",
       "      <td>1</td>\n",
       "      <td>0</td>\n",
       "      <td>157</td>\n",
       "      <td>238</td>\n",
       "      <td>121</td>\n",
       "      <td>57</td>\n",
       "      <td>28</td>\n",
       "    </tr>\n",
       "    <tr>\n",
       "      <th>3</th>\n",
       "      <td>3326856598</td>\n",
       "      <td>1504348503996</td>\n",
       "      <td>29</td>\n",
       "      <td>9</td>\n",
       "      <td>1</td>\n",
       "      <td>1</td>\n",
       "      <td>1</td>\n",
       "      <td>1</td>\n",
       "      <td>1</td>\n",
       "      <td>1</td>\n",
       "      <td>...</td>\n",
       "      <td>0</td>\n",
       "      <td>0</td>\n",
       "      <td>0</td>\n",
       "      <td>0</td>\n",
       "      <td>0</td>\n",
       "      <td>164</td>\n",
       "      <td>18</td>\n",
       "      <td>141</td>\n",
       "      <td>40</td>\n",
       "      <td>51</td>\n",
       "    </tr>\n",
       "    <tr>\n",
       "      <th>4</th>\n",
       "      <td>3330080762</td>\n",
       "      <td>1504554410899</td>\n",
       "      <td>34</td>\n",
       "      <td>9</td>\n",
       "      <td>1</td>\n",
       "      <td>2</td>\n",
       "      <td>1</td>\n",
       "      <td>1</td>\n",
       "      <td>1</td>\n",
       "      <td>1</td>\n",
       "      <td>...</td>\n",
       "      <td>3</td>\n",
       "      <td>0</td>\n",
       "      <td>0</td>\n",
       "      <td>1</td>\n",
       "      <td>0</td>\n",
       "      <td>86</td>\n",
       "      <td>11</td>\n",
       "      <td>201</td>\n",
       "      <td>122</td>\n",
       "      <td>18</td>\n",
       "    </tr>\n",
       "  </tbody>\n",
       "</table>\n",
       "<p>5 rows × 61 columns</p>\n",
       "</div>"
      ],
      "text/plain": [
       "       gameId   creationTime  gameDuration  seasonId  winner  firstBlood  \\\n",
       "0  3326086514  1504279457970            32         9       1           2   \n",
       "1  3229566029  1497848803862            30         9       1           1   \n",
       "2  3327363504  1504360103310            24         9       1           2   \n",
       "3  3326856598  1504348503996            29         9       1           1   \n",
       "4  3330080762  1504554410899            34         9       1           2   \n",
       "\n",
       "   firstTower  firstInhibitor  firstBaron  firstDragon  ...  t2_towerKills  \\\n",
       "0           1               1           1            1  ...              5   \n",
       "1           1               1           0            1  ...              2   \n",
       "2           1               1           1            2  ...              2   \n",
       "3           1               1           1            1  ...              0   \n",
       "4           1               1           1            1  ...              3   \n",
       "\n",
       "   t2_inhibitorKills  t2_baronKills  t2_dragonKills  t2_riftHeraldKills  \\\n",
       "0                  0              0               1                   1   \n",
       "1                  0              0               0                   0   \n",
       "2                  0              0               1                   0   \n",
       "3                  0              0               0                   0   \n",
       "4                  0              0               1                   0   \n",
       "\n",
       "   t2_ban1  t2_ban2  t2_ban3  t2_ban4  t2_ban5  \n",
       "0      114       67       43       16       51  \n",
       "1       11       67      238       51      420  \n",
       "2      157      238      121       57       28  \n",
       "3      164       18      141       40       51  \n",
       "4       86       11      201      122       18  \n",
       "\n",
       "[5 rows x 61 columns]"
      ]
     },
     "execution_count": 3,
     "metadata": {},
     "output_type": "execute_result"
    }
   ],
   "source": [
    "league.head()"
   ]
  },
  {
   "cell_type": "markdown",
   "metadata": {},
   "source": [
    "Here above is a quick overview of the dataset:\n",
    "gameId and creationTime are not relevant information: we will focus on the first objectives secured by one of the teams."
   ]
  },
  {
   "cell_type": "markdown",
   "metadata": {},
   "source": [
    "# Game Duration"
   ]
  },
  {
   "cell_type": "code",
   "execution_count": 4,
   "metadata": {},
   "outputs": [
    {
     "data": {
      "text/plain": [
       "(0, 60)"
      ]
     },
     "execution_count": 4,
     "metadata": {},
     "output_type": "execute_result"
    },
    {
     "data": {
      "image/png": "[encoded data removed]",
      "text/plain": [
       "<Figure size 432x288 with 1 Axes>"
      ]
     },
     "metadata": {
      "needs_background": "light"
     },
     "output_type": "display_data"
    }
   ],
   "source": [
    "league['gameDuration'].plot.kde()\n",
    "plt.xlim(0,60)"
   ]
  },
  {
   "cell_type": "code",
   "execution_count": 6,
   "metadata": {},
   "outputs": [
    {
     "data": {
      "text/plain": [
       "(0, 60)"
      ]
     },
     "execution_count": 6,
     "metadata": {},
     "output_type": "execute_result"
    },
    {
     "data": {
      "image/png": "[encoded data removed]",
      "text/plain": [
       "<Figure size 432x288 with 1 Axes>"
      ]
     },
     "metadata": {
      "needs_background": "light"
     },
     "output_type": "display_data"
    }
   ],
   "source": [
    "league.hist('gameDuration')\n",
    "plt.xlim(0,60)"
   ]
  },
  {
   "cell_type": "markdown",
   "metadata": {},
   "source": [
    "We can see that there is a little spike around 3 mins, it corresponds to \"remade games\": they are cancelled because one of the 10 players didn't manage to connect. They last only 3 minutes and are over, with no win or loss for all players.\n",
    "After this step, there is another spike at 15 mins, it is the time when a team can surrender, if every member agrees.\n",
    "Then we can see that the majority of the games last from 20 to 40 mins."
   ]
  },
  {
   "cell_type": "markdown",
   "metadata": {},
   "source": [
    "## Impact of taking First Tower"
   ]
  },
  {
   "cell_type": "code",
   "execution_count": 7,
   "metadata": {},
   "outputs": [
    {
     "data": {
      "text/plain": [
       "<matplotlib.axes._subplots.AxesSubplot at 0x1ab072e09b0>"
      ]
     },
     "execution_count": 7,
     "metadata": {},
     "output_type": "execute_result"
    },
    {
     "data": {
      "image/png": "[encoded data removed]",
      "text/plain": [
       "<Figure size 432x288 with 1 Axes>"
      ]
     },
     "metadata": {},
     "output_type": "display_data"
    }
   ],
   "source": [
    "league['firstTower'].value_counts().plot.pie()"
   ]
  },
  {
   "cell_type": "markdown",
   "metadata": {},
   "source": [
    "We can see that in the majority of games, the blue team is the first to take a tower.\n",
    "NB: Games with no turret destroyed are remade games."
   ]
  },
  {
   "cell_type": "code",
   "execution_count": 8,
   "metadata": {},
   "outputs": [
    {
     "data": {
      "text/plain": [
       "<matplotlib.axes._subplots.AxesSubplot at 0x1ab0731c940>"
      ]
     },
     "execution_count": 8,
     "metadata": {},
     "output_type": "execute_result"
    },
    {
     "data": {
      "image/png": "[encoded data removed]",
      "text/plain": [
       "<Figure size 432x288 with 1 Axes>"
      ]
     },
     "metadata": {},
     "output_type": "display_data"
    }
   ],
   "source": [
    "sns.set_style('whitegrid')\n",
    "sns.countplot(x='winner',hue='firstTower',data=league,palette='RdBu_r')"
   ]
  },
  {
   "cell_type": "markdown",
   "metadata": {},
   "source": [
    "Afterwards the team who managed to destroy the first turret is way more likely to win the game:"
   ]
  },
  {
   "cell_type": "code",
   "execution_count": 9,
   "metadata": {},
   "outputs": [
    {
     "data": {
      "text/plain": [
       "Text(0.5, 1.0, 'Winrates when Blue team takes first tower')"
      ]
     },
     "execution_count": 9,
     "metadata": {},
     "output_type": "execute_result"
    },
    {
     "data": {
      "image/png": "[encoded data removed]",
      "text/plain": [
       "<Figure size 432x288 with 1 Axes>"
      ]
     },
     "metadata": {},
     "output_type": "display_data"
    }
   ],
   "source": [
    "tone = league.loc[league['firstTower']==1]\n",
    "#make a subdataset with the games where first turret was destroyed by blue team\n",
    "tonewin = tone.loc[tone['winner']==1]\n",
    "#from this new dataset make a subdataset with the games where blue team won\n",
    "\n",
    "counttone=tonewin['winner'].count()\n",
    "#count the games where blue team won after taking first turret\n",
    "\n",
    "total = league['firstTower'].value_counts()[1]\n",
    "#counts every game where blue team destroyed first turret\n",
    "\n",
    "#same for red team\n",
    "\n",
    "ttwo = league.loc[league['firstTower']==2]\n",
    "ttwowin = ttwo.loc[ttwo['winner']==2]\n",
    "\n",
    "countttwo = ttwowin['winner'].count()\n",
    "\n",
    "total2= league['firstTower'].value_counts()[2]\n",
    "\n",
    "labels='Blue Team', 'Red Team'\n",
    "rates = [counttone/total, 1-(counttone/total)]\n",
    "#explode=(0.1,0)\n",
    "\n",
    "plt.pie(rates, labels=labels,colors=['lightskyblue', 'lightcoral'], autopct='%1.1f%%')\n",
    "\n",
    "plt.title('Winrates when Blue team takes first tower')\n",
    "\n",
    "\n",
    "\n",
    "\n",
    "#league.loc[:,['firstTower']==1,['winner']==1]"
   ]
  },
  {
   "cell_type": "code",
   "execution_count": 10,
   "metadata": {},
   "outputs": [
    {
     "data": {
      "text/plain": [
       "Text(0.5, 1.0, 'Winrates when Red team takes first tower')"
      ]
     },
     "execution_count": 10,
     "metadata": {},
     "output_type": "execute_result"
    },
    {
     "data": {
      "image/png": "[encoded data removed]",
      "text/plain": [
       "<Figure size 432x288 with 1 Axes>"
      ]
     },
     "metadata": {},
     "output_type": "display_data"
    }
   ],
   "source": [
    "labels2='Red Team', 'Blue Team'\n",
    "rates2 = [countttwo/total2, 1-(countttwo/total2)]\n",
    "#explode=(0.1,0)\n",
    "\n",
    "plt.pie(rates2, labels=labels2, colors=['lightcoral', 'lightskyblue'], autopct='%1.1f%%')\n",
    "\n",
    "plt.title('Winrates when Red team takes first tower')"
   ]
  },
  {
   "cell_type": "code",
   "execution_count": 11,
   "metadata": {},
   "outputs": [
    {
     "name": "stdout",
     "output_type": "stream",
     "text": [
      "18320\n",
      "17287\n"
     ]
    }
   ],
   "source": [
    "print(counttone)\n",
    "print(countttwo)\n",
    "#even if the proportions are equal, we can see that the number of games won\n",
    "#after taking first turret is different"
   ]
  },
  {
   "cell_type": "markdown",
   "metadata": {},
   "source": [
    "Taking first turret ensures winning at a 70% rate, regardless of the side of the map."
   ]
  },
  {
   "cell_type": "markdown",
   "metadata": {},
   "source": [
    "# Impact of taking First Blood"
   ]
  },
  {
   "cell_type": "code",
   "execution_count": 12,
   "metadata": {},
   "outputs": [
    {
     "data": {
      "text/plain": [
       "<matplotlib.axes._subplots.AxesSubplot at 0x1ab055dc780>"
      ]
     },
     "execution_count": 12,
     "metadata": {},
     "output_type": "execute_result"
    },
    {
     "data": {
      "image/png": "[encoded data removed]",
      "text/plain": [
       "<Figure size 432x288 with 1 Axes>"
      ]
     },
     "metadata": {},
     "output_type": "display_data"
    }
   ],
   "source": [
    "league['firstBlood'].value_counts().plot.pie()"
   ]
  },
  {
   "cell_type": "markdown",
   "metadata": {},
   "source": [
    "Once again there is a small advantage towards blueside."
   ]
  },
  {
   "cell_type": "code",
   "execution_count": 13,
   "metadata": {},
   "outputs": [
    {
     "data": {
      "text/plain": [
       "<matplotlib.axes._subplots.AxesSubplot at 0x1ab07207518>"
      ]
     },
     "execution_count": 13,
     "metadata": {},
     "output_type": "execute_result"
    },
    {
     "data": {
      "image/png": "[encoded data removed]",
      "text/plain": [
       "<Figure size 432x288 with 1 Axes>"
      ]
     },
     "metadata": {},
     "output_type": "display_data"
    }
   ],
   "source": [
    "sns.set_style('whitegrid')\n",
    "sns.countplot(x='winner',hue='firstBlood',data=league,palette='RdBu_r')"
   ]
  },
  {
   "cell_type": "code",
   "execution_count": 16,
   "metadata": {},
   "outputs": [
    {
     "data": {
      "text/plain": [
       "Text(0.5, 1.0, 'Winrates when Blue team takes first blood')"
      ]
     },
     "execution_count": 16,
     "metadata": {},
     "output_type": "execute_result"
    },
    {
     "data": {
      "image/png": "[encoded data removed]",
      "text/plain": [
       "<Figure size 432x288 with 1 Axes>"
      ]
     },
     "metadata": {},
     "output_type": "display_data"
    }
   ],
   "source": [
    "kOne = league.loc[league['firstBlood']==1]\n",
    "#make a subdataset with the games where blue team got first blood\n",
    "kOneWin = kOne.loc[kOne['winner']==1]\n",
    "#from this new dataset make a subdataset with the games where blue team won\n",
    "\n",
    "countKOne=kOneWin['winner'].count()\n",
    "#count the games where blue team won after taking first blood\n",
    "\n",
    "kTotal = league['firstBlood'].value_counts()[1]\n",
    "#counts every game where blue team got first blood\n",
    "\n",
    "#same for red team\n",
    "\n",
    "kTwo = league.loc[league['firstBlood']==2]\n",
    "kTwoWin = kTwo.loc[kTwo['winner']==2]\n",
    "\n",
    "countKTwo = kTwoWin['winner'].count()\n",
    "\n",
    "kTotal2= league['firstBlood'].value_counts()[2]\n",
    "\n",
    "labels='Blue Team', 'Red Team'\n",
    "krates = [countKOne/kTotal, 1-(countKOne/kTotal)]\n",
    "#explode=(0.1,0)\n",
    "\n",
    "plt.pie(krates, labels=labels,colors=['lightskyblue', 'lightcoral'], autopct='%1.1f%%')\n",
    "\n",
    "plt.title('Winrates when Blue team takes first blood')"
   ]
  },
  {
   "cell_type": "code",
   "execution_count": 17,
   "metadata": {},
   "outputs": [
    {
     "data": {
      "text/plain": [
       "Text(0.5, 1.0, 'Winrates when Red team takes first blood')"
      ]
     },
     "execution_count": 17,
     "metadata": {},
     "output_type": "execute_result"
    },
    {
     "data": {
      "image/png": "[encoded data removed]",
      "text/plain": [
       "<Figure size 432x288 with 1 Axes>"
      ]
     },
     "metadata": {},
     "output_type": "display_data"
    }
   ],
   "source": [
    "labels2='Red Team', 'Blue Team'\n",
    "rates2 = [countKTwo/kTotal2, 1-(countktwo/ktotal2)]\n",
    "#explode=(0.1,0)\n",
    "\n",
    "plt.pie(rates2, labels=labels2, colors=['lightcoral', 'lightskyblue'], autopct='%1.1f%%')\n",
    "\n",
    "plt.title('Winrates when Red team takes first blood')"
   ]
  },
  {
   "cell_type": "markdown",
   "metadata": {},
   "source": [
    "Taking first blood equals to almost 60% chance of winning. This time, we can almost observe a 1% difference depending on the side."
   ]
  },
  {
   "cell_type": "markdown",
   "metadata": {},
   "source": [
    "The team who won generally got first blood (was the first to slain an enemy player)"
   ]
  },
  {
   "cell_type": "markdown",
   "metadata": {},
   "source": [
    "# Impact of taking first Baron"
   ]
  },
  {
   "cell_type": "code",
   "execution_count": 18,
   "metadata": {},
   "outputs": [
    {
     "data": {
      "text/plain": [
       "<matplotlib.axes._subplots.AxesSubplot at 0x1ab09f73fd0>"
      ]
     },
     "execution_count": 18,
     "metadata": {},
     "output_type": "execute_result"
    },
    {
     "data": {
      "image/png": "[encoded data removed]",
      "text/plain": [
       "<Figure size 432x288 with 1 Axes>"
      ]
     },
     "metadata": {},
     "output_type": "display_data"
    }
   ],
   "source": [
    "league['firstBaron'].value_counts().plot.pie()"
   ]
  },
  {
   "cell_type": "markdown",
   "metadata": {},
   "source": [
    "As the baron is hard to kill, it is not an objective taken in every game. "
   ]
  },
  {
   "cell_type": "code",
   "execution_count": 19,
   "metadata": {},
   "outputs": [
    {
     "data": {
      "text/plain": [
       "<matplotlib.axes._subplots.AxesSubplot at 0x1ab09fc73c8>"
      ]
     },
     "execution_count": 19,
     "metadata": {},
     "output_type": "execute_result"
    },
    {
     "data": {
      "image/png": "[encoded data removed]",
      "text/plain": [
       "<Figure size 432x288 with 1 Axes>"
      ]
     },
     "metadata": {},
     "output_type": "display_data"
    }
   ],
   "source": [
    "sns.set_style('whitegrid')\n",
    "sns.countplot(x='winner',hue='firstBaron',data=league,palette='RdBu_r')"
   ]
  },
  {
   "cell_type": "code",
   "execution_count": 20,
   "metadata": {},
   "outputs": [
    {
     "data": {
      "text/plain": [
       "Text(0.5, 1.0, 'Winrates when Blue team takes first baron')"
      ]
     },
     "execution_count": 20,
     "metadata": {},
     "output_type": "execute_result"
    },
    {
     "data": {
      "image/png": "[encoded data removed]",
      "text/plain": [
       "<Figure size 432x288 with 1 Axes>"
      ]
     },
     "metadata": {},
     "output_type": "display_data"
    }
   ],
   "source": [
    "bOne = league.loc[league['firstBaron']==1]\n",
    "#make a subdataset with the games where blue team got first baron\n",
    "bOneWin = bOne.loc[bOne['winner']==1]\n",
    "#from this new dataset make a subdataset with the games where blue team won\n",
    "\n",
    "countBOne=bOneWin['winner'].count()\n",
    "#count the games where blue team won after taking first baron\n",
    "\n",
    "bTotal = league['firstBaron'].value_counts()[1]\n",
    "#counts every game where blue team got first baron\n",
    "\n",
    "#same for red team\n",
    "\n",
    "bTwo = league.loc[league['firstBaron']==2]\n",
    "bTwoWin = bTwo.loc[bTwo['winner']==2]\n",
    "\n",
    "countBTwo = bTwoWin['winner'].count()\n",
    "\n",
    "bTotal2= league['firstBaron'].value_counts()[2]\n",
    "\n",
    "labels='Blue Team', 'Red Team'\n",
    "bRates = [countBOne/bTotal, 1-(countBOne/bTotal)]\n",
    "#explode=(0.1,0)\n",
    "\n",
    "plt.pie(bRates, labels=labels,colors=['lightskyblue', 'lightcoral'], autopct='%1.1f%%')\n",
    "\n",
    "plt.title('Winrates when Blue team takes first baron')"
   ]
  },
  {
   "cell_type": "code",
   "execution_count": 21,
   "metadata": {},
   "outputs": [
    {
     "data": {
      "text/plain": [
       "Text(0.5, 1.0, 'Winrates when Red team takes first baron')"
      ]
     },
     "execution_count": 21,
     "metadata": {},
     "output_type": "execute_result"
    },
    {
     "data": {
      "image/png": "[encoded data removed]",
      "text/plain": [
       "<Figure size 432x288 with 1 Axes>"
      ]
     },
     "metadata": {},
     "output_type": "display_data"
    }
   ],
   "source": [
    "labels2='Red Team', 'Blue Team'\n",
    "rates2 = [countBTwo/bTotal2, 1-(countBTwo/bTotal2)]\n",
    "#explode=(0.1,0)\n",
    "\n",
    "plt.pie(rates2, labels=labels2, colors=['lightcoral', 'lightskyblue'], autopct='%1.1f%%')\n",
    "\n",
    "plt.title('Winrates when Red team takes first baron')"
   ]
  },
  {
   "cell_type": "markdown",
   "metadata": {},
   "source": [
    "With 80% to win after killing it, baron is the most decisive objective on the map. We can notice once again that there is a 1% difference between red and blue side, in favor of blue side."
   ]
  },
  {
   "cell_type": "markdown",
   "metadata": {},
   "source": [
    "# Global Winrates"
   ]
  },
  {
   "cell_type": "code",
   "execution_count": 22,
   "metadata": {},
   "outputs": [
    {
     "data": {
      "text/plain": [
       "<matplotlib.axes._subplots.AxesSubplot at 0x1ab0a0ada90>"
      ]
     },
     "execution_count": 22,
     "metadata": {},
     "output_type": "execute_result"
    },
    {
     "data": {
      "image/png": "[encoded data removed]",
      "text/plain": [
       "<Figure size 432x288 with 1 Axes>"
      ]
     },
     "metadata": {},
     "output_type": "display_data"
    }
   ],
   "source": [
    "sns.set_style('whitegrid')\n",
    "sns.countplot(x='winner',data=league,palette='RdBu_r')"
   ]
  },
  {
   "cell_type": "markdown",
   "metadata": {},
   "source": [
    "Here we can see a notable difference between the winrate of the two sides. It appears that the blueside winrate (1) is higher than the redside's (2). "
   ]
  },
  {
   "cell_type": "code",
   "execution_count": 15,
   "metadata": {},
   "outputs": [
    {
     "data": {
      "text/plain": [
       "Text(0.5, 1.0, 'Total winrates of each side of the map')"
      ]
     },
     "execution_count": 15,
     "metadata": {},
     "output_type": "execute_result"
    },
    {
     "data": {
      "image/png": "[encoded data removed]",
      "text/plain": [
       "<Figure size 432x288 with 1 Axes>"
      ]
     },
     "metadata": {},
     "output_type": "display_data"
    }
   ],
   "source": [
    "winb=league['winner'].value_counts()[1]\n",
    "winr=league['winner'].value_counts()[2]\n",
    "wLabels='Blue Team', 'Red Team'\n",
    "plt.pie([winb, winr], labels=wLabels, colors=['lightskyblue', 'lightcoral'], autopct='%1.1f%%')\n",
    "\n",
    "plt.title('Total winrates of each side of the map')"
   ]
  },
  {
   "cell_type": "markdown",
   "metadata": {},
   "source": [
    "With a +0.6 / -0.4 difference on such a number of games, we can affirm that the game is unbalanced."
   ]
  },
  {
   "cell_type": "markdown",
   "metadata": {},
   "source": [
    "# Study and impact of champion selection\n"
   ]
  },
  {
   "cell_type": "markdown",
   "metadata": {},
   "source": [
    "Information about champion id could be find in champion_info.json"
   ]
  },
  {
   "cell_type": "code",
   "execution_count": 37,
   "metadata": {},
   "outputs": [
    {
     "name": "stdout",
     "output_type": "stream",
     "text": [
      "\n",
      "Winrate of every champion for blue side\n",
      "\n",
      "1      53.226798\n",
      "2      47.335025\n",
      "3      45.880682\n",
      "4      51.383399\n",
      "5      52.186938\n",
      "6      50.420875\n",
      "7      46.553268\n",
      "8      50.094518\n",
      "9      50.845547\n",
      "10     50.050352\n",
      "11     51.155779\n",
      "12     51.099537\n",
      "13     40.221402\n",
      "14     50.520341\n",
      "15     51.321138\n",
      "16     52.132856\n",
      "17     52.830189\n",
      "18     52.752506\n",
      "19     51.683443\n",
      "20     50.158730\n",
      "21     53.346203\n",
      "22     47.902474\n",
      "23     52.923977\n",
      "24     50.652985\n",
      "25     49.212202\n",
      "26     49.456522\n",
      "27     54.621849\n",
      "28     50.383632\n",
      "29     53.627760\n",
      "30     50.421941\n",
      "         ...    \n",
      "141    50.609508\n",
      "143    52.298352\n",
      "150    51.474392\n",
      "154    48.194662\n",
      "157    50.724269\n",
      "161    51.282051\n",
      "163    49.294355\n",
      "164    46.145374\n",
      "201    51.360174\n",
      "202    49.874435\n",
      "203    50.724638\n",
      "222    51.426481\n",
      "223    46.072685\n",
      "236    47.698241\n",
      "238    50.059630\n",
      "240    51.634724\n",
      "245    50.568643\n",
      "254    51.066580\n",
      "266    48.284960\n",
      "267    52.085182\n",
      "268    44.267516\n",
      "412    47.610209\n",
      "420    48.703956\n",
      "421    48.095910\n",
      "427    47.058824\n",
      "429    48.618161\n",
      "432    47.647377\n",
      "497    50.000000\n",
      "498    49.667111\n",
      "516    40.720795\n",
      "Length: 138, dtype: float64\n",
      "\n",
      "Winrate of every champion for red side\n",
      "\n",
      "1      52.666667\n",
      "2      51.600512\n",
      "3      52.253629\n",
      "4      48.488180\n",
      "5      49.048223\n",
      "6      53.440952\n",
      "7      52.688172\n",
      "8      51.856436\n",
      "9      51.760563\n",
      "10     48.415842\n",
      "11     49.292929\n",
      "12     51.887872\n",
      "13     58.571429\n",
      "14     50.719080\n",
      "15     49.850598\n",
      "16     46.436707\n",
      "17     49.160079\n",
      "18     49.338258\n",
      "19     48.484848\n",
      "20     51.032448\n",
      "21     47.998698\n",
      "22     52.536510\n",
      "23     47.168882\n",
      "24     49.500294\n",
      "25     53.233999\n",
      "26     51.048951\n",
      "27     47.679325\n",
      "28     54.676259\n",
      "29     48.068182\n",
      "30     48.405253\n",
      "         ...    \n",
      "141    53.031839\n",
      "143    52.412646\n",
      "150    52.589241\n",
      "154    49.756888\n",
      "157    50.419101\n",
      "161    49.244332\n",
      "163    55.004955\n",
      "164    50.204499\n",
      "201    49.317943\n",
      "202    52.264894\n",
      "203    53.802281\n",
      "222    49.007476\n",
      "223    53.992849\n",
      "236    53.360636\n",
      "238    51.384417\n",
      "240    48.752834\n",
      "245    50.790349\n",
      "254    49.896907\n",
      "266    54.278075\n",
      "267    48.524590\n",
      "268    57.515337\n",
      "412    53.113049\n",
      "420    51.268358\n",
      "421    50.481431\n",
      "427    53.195489\n",
      "429    53.029461\n",
      "432    52.016985\n",
      "497    49.640908\n",
      "498    50.073386\n",
      "516    58.673469\n",
      "Length: 138, dtype: float64\n",
      "\n",
      "Winrate of every champion\n",
      "\n",
      "1      52.946732\n",
      "2      49.467769\n",
      "3      49.067155\n",
      "4      49.935790\n",
      "5      50.617581\n",
      "6      51.930913\n",
      "7      49.620720\n",
      "8      50.975477\n",
      "9      51.303055\n",
      "10     49.233097\n",
      "11     50.224354\n",
      "12     51.493704\n",
      "13     49.396415\n",
      "14     50.619710\n",
      "15     50.585868\n",
      "16     49.284781\n",
      "17     50.995134\n",
      "18     51.045382\n",
      "19     50.084146\n",
      "20     50.595589\n",
      "21     50.672451\n",
      "22     50.219492\n",
      "23     50.046429\n",
      "24     50.076640\n",
      "25     51.223101\n",
      "26     50.252736\n",
      "27     51.150587\n",
      "28     52.529945\n",
      "29     50.847971\n",
      "30     49.413597\n",
      "         ...    \n",
      "141    51.820674\n",
      "143    52.355499\n",
      "150    52.031816\n",
      "154    48.975775\n",
      "157    50.571685\n",
      "161    50.263192\n",
      "163    52.149655\n",
      "164    48.174937\n",
      "201    50.339059\n",
      "202    51.069665\n",
      "203    52.263460\n",
      "222    50.216979\n",
      "223    50.032767\n",
      "236    50.529438\n",
      "238    50.722024\n",
      "240    50.193779\n",
      "245    50.679496\n",
      "254    50.481744\n",
      "266    51.281518\n",
      "267    50.304886\n",
      "268    50.891427\n",
      "412    50.361629\n",
      "420    49.986157\n",
      "421    49.288670\n",
      "427    50.127156\n",
      "429    50.823811\n",
      "432    49.832181\n",
      "497    49.820454\n",
      "498    49.870248\n",
      "516    49.697132\n",
      "Length: 138, dtype: float64\n",
      "\n",
      "Most winning champion\n",
      "\n",
      "1\n",
      "52.94673222700266\n",
      "\n",
      "Least winning champion\n",
      "\n",
      "111\n"
     ]
    },
    {
     "data": {
      "text/plain": [
       "47.83631946553295"
      ]
     },
     "execution_count": 37,
     "metadata": {},
     "output_type": "execute_result"
    }
   ],
   "source": [
    "oneWin = league.loc[league['winner']==1]\n",
    "#make a subdataset with the games where blue team win\n",
    "oneTotal = oneWin['t1_champ1id'].value_counts()+oneWin['t1_champ2id'].value_counts()+oneWin['t1_champ3id'].value_counts()+oneWin['t1_champ4id'].value_counts()+oneWin['t1_champ5id'].value_counts()\n",
    "#count for each champion the number of game where blue team win and the champion is on blue team\n",
    "total1= league['t1_champ1id'].value_counts()+league['t1_champ2id'].value_counts()+league['t1_champ3id'].value_counts()+league['t1_champ4id'].value_counts()+league['t1_champ5id'].value_counts()\n",
    "#count the total of game played by each champion on blue team\n",
    "winrateOne=oneTotal/total1*100\n",
    "#find the rate of win for every champion on blue team\n",
    "\n",
    "print('')\n",
    "print(\"Winrate of every champion for blue side\")\n",
    "print('')\n",
    "print(winrateOne)\n",
    "#same for red team\n",
    "\n",
    "twoWin = league.loc[league['winner']==2]\n",
    "#make a subdataset with the games where red team win\n",
    "\n",
    "oneTotal = oneWin['t2_champ1id'].value_counts()+oneWin['t2_champ2id'].value_counts()+oneWin['t2_champ3id'].value_counts()+oneWin['t2_champ4id'].value_counts()+oneWin['t2_champ5id'].value_counts()\n",
    "#count for each champion the number of game where red team win and the champion is on red team\n",
    "total2=league['t2_champ1id'].value_counts()+league['t2_champ2id'].value_counts()+league['t2_champ3id'].value_counts()+league['t2_champ4id'].value_counts()+league['t2_champ5id'].value_counts()\n",
    "#count the total of game played by each champion on red team\n",
    "winrateTwo=oneTotal/total2*100\n",
    "#find the rate of win for every champion on red team\n",
    "\n",
    "print('')\n",
    "print(\"Winrate of every champion for red side\")\n",
    "print('')\n",
    "print(winrateTwo)\n",
    "\n",
    "\n",
    "print('')\n",
    "print(\"Winrate of every champion\")\n",
    "print('')\n",
    "\n",
    "winrateGlobal=(winrateOne+winrateTwo)/2\n",
    "#rate of win for every champion\n",
    "print(winrateGlobal)\n",
    "\n",
    "print('')\n",
    "print(\"Most winning champion\")\n",
    "print('')\n",
    "\n",
    "idMaxChampion=winrateGlobal.idxmax(axis=0)\n",
    "maxWinrate=max(winrateGlobal)\n",
    "idMinChampion=winrateGlobal.idxmin(axis=0)\n",
    "minWinrate=min(winrateGlobal)\n",
    "\n",
    "print(idMaxChampion)\n",
    "#shows the id of the most winning champion\n",
    "print(maxWinrate)\n",
    "#shows the winrate of the most winning champion\n",
    "\n",
    "print('')\n",
    "print(\"Least winning champion\")\n",
    "print('')\n",
    "\n",
    "\n",
    "print(winrateGlobal.idxmin(axis=0))\n",
    "#shows the id of the least winning champion\n",
    "min(winrateGlobal)\n",
    "#shows the winrate of the least winning champion"
   ]
  },
  {
   "cell_type": "markdown",
   "metadata": {},
   "source": [
    "In this result one could see winrate depending side and the global winrate. The most winning champion in season 9 is Annie (id=1) with a winrate of 52.9% and the least winning champion is Nautilus (id=111) with a winrate of 47.8. With a range of 5.1 league of legend is relatively balanced game. There are no champion that will win every time, chances of winning are relatively even. "
   ]
  },
  {
   "cell_type": "code",
   "execution_count": 38,
   "metadata": {},
   "outputs": [
    {
     "name": "stdout",
     "output_type": "stream",
     "text": [
      "\n",
      "Difference on winrate for each champion dependind of the side\n",
      "\n",
      "1       0.560131\n",
      "2       4.265487\n",
      "3       6.372947\n",
      "4       2.895219\n",
      "5       3.138715\n",
      "6       3.020076\n",
      "7       6.134904\n",
      "8       1.761918\n",
      "9       0.915017\n",
      "10      1.634511\n",
      "11      1.862850\n",
      "12      0.788335\n",
      "13     18.350026\n",
      "14      0.198739\n",
      "15      1.470541\n",
      "16      5.696149\n",
      "17      3.670110\n",
      "18      3.414248\n",
      "19      3.198595\n",
      "20      0.873718\n",
      "21      5.347505\n",
      "22      4.634036\n",
      "23      5.755094\n",
      "24      1.152691\n",
      "25      4.021797\n",
      "26      1.592429\n",
      "27      6.942524\n",
      "28      4.292627\n",
      "29      5.559578\n",
      "30      2.016688\n",
      "         ...    \n",
      "141     2.422331\n",
      "143     0.114293\n",
      "150     1.114849\n",
      "154     1.562226\n",
      "157     0.305169\n",
      "161     2.037719\n",
      "163     5.710601\n",
      "164     4.059125\n",
      "201     2.042231\n",
      "202     2.390459\n",
      "203     3.077644\n",
      "222     2.419005\n",
      "223     7.920164\n",
      "236     5.662395\n",
      "238     1.324787\n",
      "240     2.881889\n",
      "245     0.221706\n",
      "254     1.169673\n",
      "266     5.993114\n",
      "267     3.560592\n",
      "268    13.247821\n",
      "412     5.502840\n",
      "420     2.564401\n",
      "421     2.385521\n",
      "427     6.136665\n",
      "429     4.411300\n",
      "432     4.369608\n",
      "497     0.359092\n",
      "498     0.406275\n",
      "516    17.952674\n",
      "Length: 138, dtype: float64\n",
      "\n",
      "Most affected champion\n",
      "\n",
      "36\n",
      "18.350026357406435\n",
      "\n",
      "Least affected champion\n",
      "\n",
      "36\n",
      "0.008488243782366567\n"
     ]
    }
   ],
   "source": [
    "difference=abs(winrateOne-winrateTwo)\n",
    "#shows the difference of winrate between the two side\n",
    "\n",
    "mostAffected=max(difference)\n",
    "mostAffectedChampion=difference.idxmin(axis=0)\n",
    "\n",
    "leastAffectedChampion=difference.idxmin(axis=0)\n",
    "leastAffected=min(difference)\n",
    "\n",
    "print('')\n",
    "print(\"Difference on winrate for each champion dependind of the side\")\n",
    "print('')\n",
    "print(difference)\n",
    "print('')\n",
    "\n",
    "print(\"Most affected champion\")\n",
    "print('')\n",
    "print(mostAffectedChampion)\n",
    "print(mostAffected)\n",
    "print('')\n",
    "\n",
    "print(\"Least affected champion\")\n",
    "print('')\n",
    "print(leastAffectedChampion)\n",
    "print(leastAffected)"
   ]
  },
  {
   "cell_type": "markdown",
   "metadata": {},
   "source": [
    "This result shows that surprisinggly for some of the champion, the side could affect the winrate. The most affected champion is ryze (id=13) with a winrate on blue side inferior by 18.4. Ryze Should be played on red side to fully exploit its capacity. This fact is not well know. However, some are not really affected by the side of the game. Indeed, Dr.Mundo (id=36) is the most polyvalent champion with nearly no change in his winrate depending of the side."
   ]
  },
  {
   "cell_type": "code",
   "execution_count": 43,
   "metadata": {},
   "outputs": [
    {
     "name": "stdout",
     "output_type": "stream",
     "text": [
      "Play rate\n",
      "\n",
      "1      0.636434\n",
      "2      0.304719\n",
      "3      0.527675\n",
      "4      0.697223\n",
      "5      0.630219\n",
      "6      0.459312\n",
      "7      0.433676\n",
      "8      0.622063\n",
      "9      0.337735\n",
      "10     0.389008\n",
      "11     1.156535\n",
      "12     0.675083\n",
      "13     0.200427\n",
      "14     0.407846\n",
      "15     0.772189\n",
      "16     1.193241\n",
      "17     0.804816\n",
      "18     2.521460\n",
      "19     1.136337\n",
      "20     0.254030\n",
      "21     1.200427\n",
      "22     1.046999\n",
      "23     0.792970\n",
      "24     1.285298\n",
      "25     1.152845\n",
      "26     0.281802\n",
      "27     0.276753\n",
      "28     0.313847\n",
      "29     1.716450\n",
      "30     0.195572\n",
      "         ...   \n",
      "141    1.913575\n",
      "143    0.457370\n",
      "150    0.761701\n",
      "154    0.487085\n",
      "157    1.528841\n",
      "161    0.618955\n",
      "163    0.388619\n",
      "164    0.366285\n",
      "201    0.727131\n",
      "202    1.562245\n",
      "203    0.222762\n",
      "222    1.549815\n",
      "223    0.328607\n",
      "236    1.611963\n",
      "238    1.254613\n",
      "240    0.343562\n",
      "245    0.945038\n",
      "254    0.583026\n",
      "266    0.146242\n",
      "267    0.911633\n",
      "268    0.248592\n",
      "412    2.525151\n",
      "420    0.287823\n",
      "421    0.278889\n",
      "427    0.208973\n",
      "429    0.693727\n",
      "432    0.724995\n",
      "497    1.328607\n",
      "498    1.523208\n",
      "516    0.925617\n",
      "Length: 138, dtype: float64\n",
      "\n",
      "Most played champion\n",
      "\n",
      "412\n",
      "2.5251505146630415\n",
      "\n",
      "Least played champion\n",
      "\n",
      "72\n",
      "0.111477956884832\n"
     ]
    }
   ],
   "source": [
    "\n",
    "playRate=(league['t1_champ1id'].value_counts()/51490*100+league['t1_champ2id'].value_counts()/51490*100+league['t1_champ3id'].value_counts()/51490*100+league['t1_champ4id'].value_counts()/51490*100+league['t1_champ5id'].value_counts()/51490*100+league['t2_champ1id'].value_counts()/51490*100+league['t2_champ2id'].value_counts()/51490*100+league['t2_champ3id'].value_counts()/51490*100+league['t2_champ4id'].value_counts()/51490*100+league['t2_champ5id'].value_counts()/51490*100)/10\n",
    "idMaxPlayRate=playRate.idxmax(axis=0)\n",
    "maxPlayRate=max(playRate)\n",
    "idMinPlayRate=playRate.idxmin(axis=0)\n",
    "minPlayRate=min(playRate)\n",
    "\n",
    "print('Play rate')\n",
    "print('')\n",
    "print(playRate)\n",
    "print('')\n",
    "\n",
    "print('Most played champion')\n",
    "print('')\n",
    "print(idMaxPlayRate)\n",
    "print(maxPlayRate)\n",
    "print('')\n",
    "\n",
    "print('Least played champion')\n",
    "print('')\n",
    "print(idMinPlayRate)\n",
    "print(minPlayRate)\n"
   ]
  },
  {
   "cell_type": "markdown",
   "metadata": {},
   "source": [
    "This result highlights the fact that there are no champion that will appear in every game. Indeed the most played champion is Thresh with a playrate of only 2.5%. However some champion were avoid by player this season like Skarner with a playrate of 0.1%."
   ]
  },
  {
   "cell_type": "markdown",
   "metadata": {},
   "source": [
    "# Conclusion"
   ]
  },
  {
   "cell_type": "markdown",
   "metadata": {},
   "source": [
    "Our recommandation for this season would be to always adapts your strategy to the side of the game you played. Indeed as we show in this result being on the blue or red side of the game will impact the course of the game. In general you will be more likely to win with the blue side. Moreover always check that champions in your team are not affected by the side. Indeed for example avoid ryze is a major threat on red side but a burden on blue side. Keep in mind that as always taking first tower and kill in game is a strategic move that could lead to victory. However if you happened to lost one of this objective the result shows that the game is not over and a comeback is possible. Do not overlook to take the baron if possible, the objective is likely to lead you to victory. Hope that you find this study interesting.\n",
    "Best regards"
   ]
  }
 ],
 "metadata": {
  "kernelspec": {
   "display_name": "Python 3",
   "language": "python",
   "name": "python3"
  },
  "language_info": {
   "codemirror_mode": {
    "name": "ipython",
    "version": 3
   },
   "file_extension": ".py",
   "mimetype": "text/x-python",
   "name": "python",
   "nbconvert_exporter": "python",
   "pygments_lexer": "ipython3",
   "version": "3.7.3"
  }
 },
 "nbformat": 4,
 "nbformat_minor": 4
}
